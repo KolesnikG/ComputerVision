{
 "cells": [
  {
   "cell_type": "code",
   "execution_count": 1,
   "metadata": {
    "collapsed": true
   },
   "outputs": [],
   "source": [
    "import numpy as np\n",
    "from matplotlib import pyplot as plt\n",
    "from mpl_toolkits.mplot3d import Axes3D\n",
    "from matplotlib import animation\n",
    "from matplotlib.patches import FancyArrowPatch\n",
    "from mpl_toolkits.mplot3d import proj3d"
   ]
  },
  {
   "cell_type": "code",
   "execution_count": 2,
   "metadata": {
    "collapsed": false
   },
   "outputs": [],
   "source": [
    "np.random.seed(1)\n",
    "\n",
    "steps = 3000\n",
    "tr=1\n",
    "\n",
    "def lorenz(x, y, z, s=10, r=28, b=8./3, dt=0.01) :\n",
    "    return [x + (s*(y - x))*dt, y + (r*x - y - x*z)*dt, z + (x*y - b*z)*dt]\n",
    "\n",
    "scatter_matrix = np.zeros((3,3))\n",
    "U=np.zeros((steps,tr,3))\n",
    "U[0]=-15+30*np.random.random((tr,3))\n",
    "for i in range(0,steps-1):\n",
    "    for j in range(0,tr):\n",
    "        U[i+1][j][0], U[i+1][j][1], U[i+1][j][2]=lorenz(U[i][j][0], U[i][j][1], U[i][j][2]) "
   ]
  },
  {
   "cell_type": "code",
   "execution_count": 3,
   "metadata": {
    "collapsed": false
   },
   "outputs": [],
   "source": [
    "class DrawVectors(FancyArrowPatch):\n",
    "    def __init__(self, xs, ys, zs, *args, **kwargs):\n",
    "        FancyArrowPatch.__init__(self, (0,0), (0,0), *args, **kwargs)\n",
    "        self._verts3d = xs, ys, zs\n",
    "\n",
    "    def draw(self, renderer):\n",
    "        xs3d, ys3d, zs3d = self._verts3d\n",
    "        xs, ys, zs = proj3d.proj_transform(xs3d, ys3d, zs3d, renderer.M)\n",
    "        self.set_positions((xs[0],ys[0]),(xs[1],ys[1]))\n",
    "        FancyArrowPatch.draw(self, renderer)"
   ]
  },
  {
   "cell_type": "code",
   "execution_count": 4,
   "metadata": {
    "collapsed": false
   },
   "outputs": [],
   "source": [
    "def CalculateVectors(U):\n",
    "    global scatter_matrix\n",
    "    mean_vector = np.array([[np.mean(U[:,0])],[np.mean(U[:,1])],[np.mean(U[:,2])]])\n",
    "    for i in range(tr):\n",
    "        scatter_matrix += (U[i,:].reshape(3,1) - mean_vector).dot((U[i,:].reshape(3,1) - mean_vector).T)\n",
    "\n",
    "    eig_val_sc, eig_vec_sc = np.linalg.eig(scatter_matrix)\n",
    "    for v in eig_vec_sc.T:\n",
    "        a = DrawVectors([0,10*v[0]+mean_vector[0]], \n",
    "                        [0,10*v[1]+mean_vector[1]], \n",
    "                        [0,10*v[2]+mean_vector[2]], mutation_scale=20, lw=1, arrowstyle=\"-|>\", color=\"c\")\n",
    "        \n",
    "        ax.add_artist(a)\n"
   ]
  },
  {
   "cell_type": "code",
   "execution_count": null,
   "metadata": {
    "collapsed": false
   },
   "outputs": [],
   "source": [
    "fig = plt.figure()\n",
    "ax=fig.gca(projection='3d')"
   ]
  },
  {
   "cell_type": "code",
   "execution_count": null,
   "metadata": {
    "collapsed": false
   },
   "outputs": [],
   "source": [
    "k=0\n",
    "def animat(t):\n",
    "    global k\n",
    "    \n",
    "    ax.cla()\n",
    "    CalculateVectors(U[k])\n",
    "    ax.scatter(U[k,0,0], U[k,0,1], U[k,0,2],c='y')\n",
    "    ax.scatter(U[k,1:,0], U[k,1:,1], U[k,1:,2],c='r')\n",
    "    ax.set_zlim(0,60)\n",
    "    ax.set_ylim(-25,25)\n",
    "    ax.set_xlim(-19,19)\n",
    "    \n",
    "    k+=1\n",
    "anim = animation.FuncAnimation(fig, animat, frames=steps-2,interval=5)\n",
    "#anim.save('lorenzG.mp4', dpi=100, bitrate=9000, fps=30)\n",
    "plt.show(anim)\n",
    "print('OK')"
   ]
  },
  {
   "cell_type": "code",
   "execution_count": null,
   "metadata": {
    "collapsed": true
   },
   "outputs": [],
   "source": []
  }
 ],
 "metadata": {
  "kernelspec": {
   "display_name": "Python 3",
   "language": "python",
   "name": "python3"
  },
  "language_info": {
   "codemirror_mode": {
    "name": "ipython",
    "version": 3
   },
   "file_extension": ".py",
   "mimetype": "text/x-python",
   "name": "python",
   "nbconvert_exporter": "python",
   "pygments_lexer": "ipython3",
   "version": "3.4.1"
  }
 },
 "nbformat": 4,
 "nbformat_minor": 0
}
